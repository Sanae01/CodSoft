{
 "cells": [
  {
   "cell_type": "code",
   "execution_count": 1,
   "id": "f46ad773",
   "metadata": {},
   "outputs": [
    {
     "name": "stderr",
     "output_type": "stream",
     "text": [
      "[nltk_data] Downloading package punkt to\n",
      "[nltk_data]     C:\\Users\\sanae\\AppData\\Roaming\\nltk_data...\n",
      "[nltk_data]   Package punkt is already up-to-date!\n"
     ]
    }
   ],
   "source": [
    "import nltk\n",
    "nltk.download('punkt')\n",
    "import requests"
   ]
  },
  {
   "cell_type": "code",
   "execution_count": 2,
   "id": "b410c810",
   "metadata": {},
   "outputs": [
    {
     "name": "stdout",
     "output_type": "stream",
     "text": [
      "Requirement already satisfied: nltk in c:\\users\\sanae\\anaconda3\\lib\\site-packages (3.7)\n",
      "Requirement already satisfied: click in c:\\users\\sanae\\anaconda3\\lib\\site-packages (from nltk) (8.0.4)\n",
      "Requirement already satisfied: joblib in c:\\users\\sanae\\anaconda3\\lib\\site-packages (from nltk) (1.2.0)\n",
      "Requirement already satisfied: regex>=2021.8.3 in c:\\users\\sanae\\anaconda3\\lib\\site-packages (from nltk) (2022.7.9)\n",
      "Requirement already satisfied: tqdm in c:\\users\\sanae\\anaconda3\\lib\\site-packages (from nltk) (4.65.0)\n",
      "Requirement already satisfied: colorama in c:\\users\\sanae\\anaconda3\\lib\\site-packages (from click->nltk) (0.4.6)\n"
     ]
    }
   ],
   "source": [
    "!pip install nltk"
   ]
  },
  {
   "cell_type": "code",
   "execution_count": 3,
   "id": "928c495c",
   "metadata": {},
   "outputs": [],
   "source": [
    "from nltk.tokenize import word_tokenize"
   ]
  },
  {
   "cell_type": "code",
   "execution_count": 4,
   "id": "71e54264",
   "metadata": {},
   "outputs": [],
   "source": [
    "#This program is a designated chat-bot with rule based responses"
   ]
  },
  {
   "cell_type": "code",
   "execution_count": 5,
   "id": "5553bfcc",
   "metadata": {},
   "outputs": [],
   "source": [
    "api_endpoint = \"http://api.openweathermap.org/data/2.5/weather\"\n",
    "api_key = \"b3d8c75c6a0342f3007bd6735614a55b\""
   ]
  },
  {
   "cell_type": "code",
   "execution_count": 6,
   "id": "ca0dba11",
   "metadata": {},
   "outputs": [],
   "source": [
    "answers = {\n",
    "    \"hello\":\"hi there! how can i help you today?\",\n",
    "    \"how are you?\":\"Im good, how about you?\",\n",
    "    \" I need help with this assignment\": \" sure, give me a clear query and i will work on it\"\n",
    "    }"
   ]
  },
  {
   "cell_type": "code",
   "execution_count": 7,
   "id": "88707058",
   "metadata": {},
   "outputs": [],
   "source": [
    "def get_weather(city):\n",
    "    params = {\n",
    "        \"q\": city,\n",
    "        \"appid\": api_key,\n",
    "        \"units\": \"metric\"  # You can change this to \"imperial\" for Fahrenheit\n",
    "    }\n",
    "    response = requests.get(api_endpoint, params=params)\n",
    "    data = response.json()\n",
    "\n",
    "    if response.status_code == 200:\n",
    "        main = data['main']\n",
    "        temperature = main['temp']\n",
    "        description = data['weather'][0]['description']\n",
    "        return f\"The weather in {city} is {description} with a temperature of {temperature}°C.\"\n",
    "    else:\n",
    "        return \"Sorry, I couldn't retrieve the weather information at the moment.\""
   ]
  },
  {
   "cell_type": "code",
   "execution_count": 8,
   "id": "bd4c3cb8",
   "metadata": {},
   "outputs": [],
   "source": [
    "def chatbot_response (user_input):\n",
    " # tokens= word_tokenize(user_input)\n",
    " # for word in tokens:\n",
    "    if  user_input.lower()in answers :\n",
    "      return answers[user_input]\n",
    "    if \"weather\" in user_input:\n",
    "      city= input (\"Which city's weather would you like to know?\")\n",
    "      weather_response = get_weather(city)\n",
    "      return weather_response\n",
    "    return \"I'm sorry, I didn't get that.\""
   ]
  },
  {
   "cell_type": "code",
   "execution_count": 9,
   "id": "72ea2493",
   "metadata": {},
   "outputs": [
    {
     "name": "stdout",
     "output_type": "stream",
     "text": [
      "You: hello\n",
      "Bot: hi there! how can i help you today?\n",
      "You: how are you\n",
      "Bot: I'm sorry, I didn't get that.\n",
      "You: how are you?\n",
      "Bot: Im good, how about you?\n",
      "You: whats the weather today?\n",
      "Which city's weather would you like to know?casablanca\n",
      "Bot: The weather in casablanca is light rain with a temperature of 18.15°C.\n",
      "You: exit\n"
     ]
    }
   ],
   "source": [
    "while True:\n",
    "    user_input = input(\"You: \")\n",
    "    if user_input.lower() == \"exit\":\n",
    "        break\n",
    "    response = chatbot_response(user_input)\n",
    "    print(\"Bot:\", response)"
   ]
  }
 ],
 "metadata": {
  "kernelspec": {
   "display_name": "Python 3 (ipykernel)",
   "language": "python",
   "name": "python3"
  },
  "language_info": {
   "codemirror_mode": {
    "name": "ipython",
    "version": 3
   },
   "file_extension": ".py",
   "mimetype": "text/x-python",
   "name": "python",
   "nbconvert_exporter": "python",
   "pygments_lexer": "ipython3",
   "version": "3.11.3"
  }
 },
 "nbformat": 4,
 "nbformat_minor": 5
}
