{
 "cells": [
  {
   "cell_type": "code",
   "execution_count": null,
   "id": "5ac5373f",
   "metadata": {},
   "outputs": [],
   "source": [
    "import random"
   ]
  },
  {
   "cell_type": "code",
   "execution_count": 11,
   "id": "436db66f",
   "metadata": {},
   "outputs": [],
   "source": [
    "# Initialize the Tic-Tac-Toe board\n",
    "board = [' ' for _ in range(9)]"
   ]
  },
  {
   "cell_type": "code",
   "execution_count": 12,
   "id": "fc230e1e",
   "metadata": {},
   "outputs": [],
   "source": [
    "# Define winning combinations\n",
    "winning_combinations = [(0, 1, 2), (3, 4, 5), (6, 7, 8), (0, 3, 6), (1, 4, 7), (2, 5, 8), (0, 4, 8), (2, 4, 6)]"
   ]
  },
  {
   "cell_type": "code",
   "execution_count": 13,
   "id": "866d4b13",
   "metadata": {},
   "outputs": [],
   "source": [
    "# Function to print the board\n",
    "def print_board(board):\n",
    "    for i in range(0, 9, 3):\n",
    "        print(board[i], '|', board[i+1], '|', board[i+2])\n",
    "        if i < 6:\n",
    "            print('---------')"
   ]
  },
  {
   "cell_type": "code",
   "execution_count": 14,
   "id": "ce833754",
   "metadata": {},
   "outputs": [],
   "source": [
    "# Function to check for a win\n",
    "def check_win(board, player):\n",
    "    for combo in winning_combinations:\n",
    "        if all(board[i] == player for i in combo):\n",
    "            return True\n",
    "    return False"
   ]
  },
  {
   "cell_type": "code",
   "execution_count": 15,
   "id": "937857ab",
   "metadata": {},
   "outputs": [],
   "source": [
    "# Function to check for a tie\n",
    "def check_tie(board):\n",
    "    return ' ' not in board"
   ]
  },
  {
   "cell_type": "code",
   "execution_count": 16,
   "id": "adfec0fd",
   "metadata": {},
   "outputs": [],
   "source": [
    "# Minimax algorithm with alpha-beta pruning\n",
    "def minimax(board, depth, maximizing_player):\n",
    "    if check_win(board, 'O'):\n",
    "        return 1\n",
    "    if check_win(board, 'X'):\n",
    "        return -1\n",
    "    if check_tie(board):\n",
    "        return 0\n",
    "\n",
    "    if maximizing_player:\n",
    "        max_eval = -float('inf')\n",
    "        for i in range(9):\n",
    "            if board[i] == ' ':\n",
    "                board[i] = 'O'\n",
    "                eval = minimax(board, depth + 1, False)\n",
    "                board[i] = ' '\n",
    "                max_eval = max(max_eval, eval)\n",
    "        return max_eval\n",
    "    else:\n",
    "        min_eval = float('inf')\n",
    "        for i in range(9):\n",
    "            if board[i] == ' ':\n",
    "                board[i] = 'X'\n",
    "                eval = minimax(board, depth + 1, True)\n",
    "                board[i] = ' '\n",
    "                min_eval = min(min_eval, eval)\n",
    "        return min_eval"
   ]
  },
  {
   "cell_type": "code",
   "execution_count": 17,
   "id": "32f30f94",
   "metadata": {},
   "outputs": [],
   "source": [
    "# AI's move\n",
    "def ai_move(board):\n",
    "    best_move = -1\n",
    "    best_eval = -float('inf')\n",
    "    for i in range(9):\n",
    "        if board[i] == ' ':\n",
    "            board[i] = 'O'\n",
    "            eval = minimax(board, 0, False)\n",
    "            board[i] = ' '\n",
    "            if eval > best_eval:\n",
    "                best_eval = eval\n",
    "                best_move = i\n",
    "    return best_move"
   ]
  },
  {
   "cell_type": "code",
   "execution_count": null,
   "id": "d56a60b5",
   "metadata": {},
   "outputs": [
    {
     "name": "stdout",
     "output_type": "stream",
     "text": [
      "O | X | O\n",
      "---------\n",
      "X | X | O\n",
      "---------\n",
      "X | O | X\n"
     ]
    }
   ],
   "source": [
    "# Main game loop\n",
    "while True:\n",
    "    print_board(board)\n",
    "    player_move = int(input(\"Enter your move (0-8): \" ))\n",
    "    \n",
    "    if board[player_move] == ' ':\n",
    "        board[player_move] = 'X'\n",
    "        if check_win(board, 'X'):\n",
    "            print_board(board)\n",
    "            print(\"You win!\")\n",
    "            break\n",
    "        elif check_tie(board):\n",
    "            print_board(board)\n",
    "            print(\"It's a tie!\")\n",
    "            break\n",
    "        \n",
    "        ai_best_move = ai_move(board)\n",
    "        board[ai_best_move] = 'O'\n",
    "        if check_win(board, 'O'):\n",
    "            print_board(board)\n",
    "            print(\"AI wins!\")\n",
    "            break\n",
    "        elif check_tie(board):\n",
    "            print_board(board)\n",
    "            print(\"It's a tie!\")\n",
    "            break\n",
    "    else:\n",
    "        print(\"Invalid move. Try again.\")\n"
   ]
  },
  {
   "cell_type": "code",
   "execution_count": null,
   "id": "d4dda7e4",
   "metadata": {},
   "outputs": [],
   "source": []
  }
 ],
 "metadata": {
  "kernelspec": {
   "display_name": "Python 3 (ipykernel)",
   "language": "python",
   "name": "python3"
  },
  "language_info": {
   "codemirror_mode": {
    "name": "ipython",
    "version": 3
   },
   "file_extension": ".py",
   "mimetype": "text/x-python",
   "name": "python",
   "nbconvert_exporter": "python",
   "pygments_lexer": "ipython3",
   "version": "3.11.3"
  }
 },
 "nbformat": 4,
 "nbformat_minor": 5
}
